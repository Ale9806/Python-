{
 "cells": [
  {
   "cell_type": "markdown",
   "metadata": {},
   "source": [
    "## Introduction to python: \n",
    "\n",
    "Python is an interpreted programming language whose philosophy emphasizes the readability of its code. It is a multiparadigm programming language, as it supports object orientation, imperative programming and, to a lesser extent, functional programming. It is an interpreted, dynamic and multiplatform language.\n",
    "\n",
    "It is managed by the Python Software Foundation. It has an open source license, called the Python Software Foundation License.\n",
    "\n",
    "Everyhing in python is an object, as you may rember objects are constructed by a class and have two basic components:\n",
    "\n",
    "* **Methods()** Methods describe the behavior of the object\n",
    "* **Attributes** Attributes describe the characteristics of an object\n",
    "\n",
    "Python modoules can be downloaded via [The Python Package Index manage system (PYPI)](https://pypi.org/). the most commun format to download libraries are wheel files. Nevertheles, there may be some other libraries that require open source implementation like boost, for those type of libaries it may be difficult to acces the binary files via PYPI. There is another popular package manager called [CONDA](https://docs.conda.io/en/latest/), though this manger is used for Python, R, Ruby, Lua, Scala, Java, JavaScript, C/ C++, FORTRAN, and more."
   ]
  },
  {
   "cell_type": "code",
   "execution_count": null,
   "metadata": {},
   "outputs": [],
   "source": [
    "import numpy as np # Import a python module "
   ]
  },
  {
   "cell_type": "markdown",
   "metadata": {},
   "source": [
    "### Basic Data  Structures\n",
    "\n",
    "Lets define 3 data structues, a _python list__, a _numpy n dimensional array__, and a _python int__:"
   ]
  },
  {
   "cell_type": "code",
   "execution_count": 3,
   "metadata": {},
   "outputs": [],
   "source": [
    "#     0  1  2  3  4 5               # Indexing of python list\n",
    "a = [10,11,11,13,14,15]             # list of integers \n",
    "a_n = np.array([a], dtype=np.uint8) # unsinged integers from 0 to 200\n",
    "c = 1                               # int"
   ]
  },
  {
   "cell_type": "markdown",
   "metadata": {},
   "source": [
    "We will now acces the print method, whic allows us to print the content of a variable that we have previously construced "
   ]
  },
  {
   "cell_type": "code",
   "execution_count": 4,
   "metadata": {},
   "outputs": [
    {
     "name": "stdout",
     "output_type": "stream",
     "text": [
      "[10, 11, 11, 13, 14, 15]\n",
      "[[10 11 11 13 14 15]]\n",
      "1\n"
     ]
    }
   ],
   "source": [
    "print(a)\n",
    "print(a_n)\n",
    "print(c)"
   ]
  },
  {
   "cell_type": "markdown",
   "metadata": {},
   "source": [
    "We can also acess the type method in order to acces the tpye attribute of varibles"
   ]
  },
  {
   "cell_type": "code",
   "execution_count": 93,
   "metadata": {},
   "outputs": [
    {
     "name": "stdout",
     "output_type": "stream",
     "text": [
      "<class 'numpy.ndarray'>\n",
      "<class 'list'>\n",
      "<class 'int'>\n"
     ]
    }
   ],
   "source": [
    "print(type(a_n))\n",
    "print(type(a))\n",
    "print(type(c))"
   ]
  },
  {
   "cell_type": "markdown",
   "metadata": {},
   "source": [
    "**Notices that int has no len**"
   ]
  },
  {
   "cell_type": "code",
   "execution_count": 94,
   "metadata": {},
   "outputs": [
    {
     "name": "stdout",
     "output_type": "stream",
     "text": [
      "1\n",
      "6\n"
     ]
    },
    {
     "ename": "TypeError",
     "evalue": "object of type 'int' has no len()",
     "output_type": "error",
     "traceback": [
      "\u001b[1;31m---------------------------------------------------------------------------\u001b[0m",
      "\u001b[1;31mTypeError\u001b[0m                                 Traceback (most recent call last)",
      "\u001b[1;32m<ipython-input-94-d7b60d1a4787>\u001b[0m in \u001b[0;36m<module>\u001b[1;34m\u001b[0m\n\u001b[0;32m      1\u001b[0m \u001b[0mprint\u001b[0m\u001b[1;33m(\u001b[0m\u001b[0mlen\u001b[0m\u001b[1;33m(\u001b[0m\u001b[0ma_n\u001b[0m\u001b[1;33m)\u001b[0m\u001b[1;33m)\u001b[0m\u001b[1;33m\u001b[0m\u001b[1;33m\u001b[0m\u001b[0m\n\u001b[0;32m      2\u001b[0m \u001b[0mprint\u001b[0m\u001b[1;33m(\u001b[0m\u001b[0mlen\u001b[0m\u001b[1;33m(\u001b[0m\u001b[0ma\u001b[0m\u001b[1;33m)\u001b[0m\u001b[1;33m)\u001b[0m\u001b[1;33m\u001b[0m\u001b[1;33m\u001b[0m\u001b[0m\n\u001b[1;32m----> 3\u001b[1;33m \u001b[0mprint\u001b[0m\u001b[1;33m(\u001b[0m\u001b[0mlen\u001b[0m\u001b[1;33m(\u001b[0m\u001b[0mc\u001b[0m\u001b[1;33m)\u001b[0m\u001b[1;33m)\u001b[0m\u001b[1;33m\u001b[0m\u001b[1;33m\u001b[0m\u001b[0m\n\u001b[0m",
      "\u001b[1;31mTypeError\u001b[0m: object of type 'int' has no len()"
     ]
    }
   ],
   "source": [
    "print(len(a_n))\n",
    "print(len(a))\n",
    "print(len(c))"
   ]
  },
  {
   "cell_type": "markdown",
   "metadata": {},
   "source": [
    "### For Loops\n",
    "Before we begin with for loops it is important to understand that in order to iterate over a variable, the variable must have the dunder attribute `__iter__`. This attrribute will allow us to keep track of the interal state of the variable so we can iterate over it "
   ]
  },
  {
   "cell_type": "code",
   "execution_count": 89,
   "metadata": {},
   "outputs": [
    {
     "name": "stdout",
     "output_type": "stream",
     "text": [
      "<iterator object at 0x000001598E0A42C8>\n",
      "<list_iterator object at 0x000001598E0A4AC8>\n"
     ]
    },
    {
     "ename": "AttributeError",
     "evalue": "'int' object has no attribute '__iter__'",
     "output_type": "error",
     "traceback": [
      "\u001b[1;31m---------------------------------------------------------------------------\u001b[0m",
      "\u001b[1;31mAttributeError\u001b[0m                            Traceback (most recent call last)",
      "\u001b[1;32m<ipython-input-89-60fbe0f1877f>\u001b[0m in \u001b[0;36m<module>\u001b[1;34m\u001b[0m\n\u001b[0;32m      1\u001b[0m \u001b[0mprint\u001b[0m\u001b[1;33m(\u001b[0m\u001b[0ma_n\u001b[0m\u001b[1;33m.\u001b[0m\u001b[0m__iter__\u001b[0m\u001b[1;33m(\u001b[0m\u001b[1;33m)\u001b[0m\u001b[1;33m)\u001b[0m\u001b[1;33m\u001b[0m\u001b[1;33m\u001b[0m\u001b[0m\n\u001b[0;32m      2\u001b[0m \u001b[0mprint\u001b[0m\u001b[1;33m(\u001b[0m\u001b[0ma\u001b[0m\u001b[1;33m.\u001b[0m\u001b[0m__iter__\u001b[0m\u001b[1;33m(\u001b[0m\u001b[1;33m)\u001b[0m\u001b[1;33m)\u001b[0m\u001b[1;33m\u001b[0m\u001b[1;33m\u001b[0m\u001b[0m\n\u001b[1;32m----> 3\u001b[1;33m \u001b[0mprint\u001b[0m\u001b[1;33m(\u001b[0m\u001b[0mc\u001b[0m\u001b[1;33m.\u001b[0m\u001b[0m__iter__\u001b[0m\u001b[1;33m(\u001b[0m\u001b[1;33m)\u001b[0m\u001b[1;33m)\u001b[0m\u001b[1;33m\u001b[0m\u001b[1;33m\u001b[0m\u001b[0m\n\u001b[0m",
      "\u001b[1;31mAttributeError\u001b[0m: 'int' object has no attribute '__iter__'"
     ]
    }
   ],
   "source": [
    "print(a_n.__iter__())\n",
    "print(a.__iter__())\n",
    "print(c.__iter__())"
   ]
  },
  {
   "cell_type": "markdown",
   "metadata": {},
   "source": [
    "Notices that since there is no `__iter__` attribute for a python constant we are not able to iterate over it "
   ]
  },
  {
   "cell_type": "code",
   "execution_count": 90,
   "metadata": {},
   "outputs": [
    {
     "ename": "TypeError",
     "evalue": "'int' object is not iterable",
     "output_type": "error",
     "traceback": [
      "\u001b[1;31m---------------------------------------------------------------------------\u001b[0m",
      "\u001b[1;31mTypeError\u001b[0m                                 Traceback (most recent call last)",
      "\u001b[1;32m<ipython-input-90-ff0effaea241>\u001b[0m in \u001b[0;36m<module>\u001b[1;34m\u001b[0m\n\u001b[1;32m----> 1\u001b[1;33m \u001b[1;32mfor\u001b[0m \u001b[0mi\u001b[0m \u001b[1;32min\u001b[0m \u001b[0mc\u001b[0m\u001b[1;33m:\u001b[0m\u001b[1;33m\u001b[0m\u001b[1;33m\u001b[0m\u001b[0m\n\u001b[0m\u001b[0;32m      2\u001b[0m     \u001b[0mprint\u001b[0m\u001b[1;33m(\u001b[0m\u001b[0mi\u001b[0m\u001b[1;33m)\u001b[0m\u001b[1;33m\u001b[0m\u001b[1;33m\u001b[0m\u001b[0m\n",
      "\u001b[1;31mTypeError\u001b[0m: 'int' object is not iterable"
     ]
    }
   ],
   "source": [
    "for i in c:\n",
    "    print(i)"
   ]
  },
  {
   "cell_type": "markdown",
   "metadata": {},
   "source": [
    "for i in a:\n",
    "    for i in a:\n",
    "        for i in a:\n",
    "            for in a:\n",
    "O(o^4)\n",
    "\n",
    "for i in a:\n",
    "for i in a:\n",
    "for i in a:\n",
    "for i in a:\n",
    "O(o)"
   ]
  },
  {
   "cell_type": "markdown",
   "metadata": {},
   "source": [
    "##### Normal for loop"
   ]
  },
  {
   "cell_type": "code",
   "execution_count": 25,
   "metadata": {},
   "outputs": [
    {
     "name": "stdout",
     "output_type": "stream",
     "text": [
      "10\n",
      "11\n",
      "11\n",
      "13\n",
      "14\n",
      "15\n"
     ]
    }
   ],
   "source": [
    "n = len(a)\n",
    "for i in range(0,n):\n",
    "    print(a[i])"
   ]
  },
  {
   "cell_type": "markdown",
   "metadata": {},
   "source": [
    "##### For loop with python abstraction, iterating over the variable, but printing the variable itself"
   ]
  },
  {
   "cell_type": "code",
   "execution_count": 5,
   "metadata": {},
   "outputs": [
    {
     "name": "stdout",
     "output_type": "stream",
     "text": [
      "[10, 11, 11, 13, 14, 15]\n",
      "[10, 11, 11, 13, 14, 15]\n",
      "[10, 11, 11, 13, 14, 15]\n",
      "[10, 11, 11, 13, 14, 15]\n",
      "[10, 11, 11, 13, 14, 15]\n",
      "[10, 11, 11, 13, 14, 15]\n"
     ]
    }
   ],
   "source": [
    "for i in a:\n",
    "    print(a)"
   ]
  },
  {
   "cell_type": "markdown",
   "metadata": {},
   "source": [
    "##### For loop with python abstraction, iterating over the variable"
   ]
  },
  {
   "cell_type": "code",
   "execution_count": 32,
   "metadata": {},
   "outputs": [
    {
     "name": "stdout",
     "output_type": "stream",
     "text": [
      "10\n",
      "11\n",
      "11\n",
      "13\n",
      "14\n",
      "15\n"
     ]
    }
   ],
   "source": [
    "for i in a:\n",
    "    print(i)"
   ]
  },
  {
   "cell_type": "markdown",
   "metadata": {},
   "source": [
    "### List comprhension \n",
    "A online shot to do a for loop, once you learn it, you will love it!"
   ]
  },
  {
   "cell_type": "code",
   "execution_count": 51,
   "metadata": {},
   "outputs": [
    {
     "name": "stdout",
     "output_type": "stream",
     "text": [
      "[100, 121, 121]\n"
     ]
    }
   ],
   "source": [
    "a2 = [i**2  for i in a if i** 2< 150 ]\n",
    "print(a2)"
   ]
  },
  {
   "cell_type": "code",
   "execution_count": 41,
   "metadata": {},
   "outputs": [
    {
     "name": "stdout",
     "output_type": "stream",
     "text": [
      "[100, 121, 121]\n"
     ]
    }
   ],
   "source": [
    "n = len(a)\n",
    "a2l = list()\n",
    "for i in range(0,n):\n",
    "    alcuadrado  =  a[i]**2\n",
    "    if alcuadrado < 150:\n",
    "        a2l.append(alcuadrado)\n",
    "print(a2l)"
   ]
  },
  {
   "cell_type": "markdown",
   "metadata": {},
   "source": [
    "### IF  Stamtent\n",
    "![logic]( images\\logic.jpg)\n",
    "\n",
    "#### Basic Boolean Logic Review\n",
    "$let \\; a,b \\;\\in R^{1} $\n",
    "\n",
    "<br>\n",
    "We define the AND operator as:\n",
    "<br>\n",
    "$AND =  (a)(b)$\n",
    "\n",
    "We define the OR operator as:\n",
    "<br>\n",
    "$OR = a + b $\n",
    "\n",
    "We define the XOR operator as:\n",
    "<br>\n",
    "$OR = True \\; a != b\\;,\\; False\\; else$"
   ]
  },
  {
   "cell_type": "code",
   "execution_count": 7,
   "metadata": {},
   "outputs": [],
   "source": [
    "###We define to lists with same lenght ####\n",
    "a = [1,2,3,4,5,6,7,8,9,10]\n",
    "b = [5,6,7,8,9,10,11,12,13,14]"
   ]
  },
  {
   "cell_type": "code",
   "execution_count": 8,
   "metadata": {},
   "outputs": [
    {
     "name": "stdout",
     "output_type": "stream",
     "text": [
      "1\n",
      "5\n",
      "2\n",
      "6\n",
      "3\n",
      "7\n",
      "4\n",
      "8\n",
      "5\n",
      "9\n",
      "6\n",
      "10\n",
      "7\n",
      "8\n",
      "9\n",
      "10\n"
     ]
    }
   ],
   "source": [
    "## We iterate over the list and print the value IF the value is smaller than 11 ###\n",
    "for i,j in zip(a,b):\n",
    "    if i < 11:\n",
    "        print(i)\n",
    "    if j < 11:\n",
    "        print(j)"
   ]
  },
  {
   "cell_type": "code",
   "execution_count": 70,
   "metadata": {},
   "outputs": [
    {
     "name": "stdout",
     "output_type": "stream",
     "text": [
      "1\n",
      "5\n",
      "2\n",
      "6\n",
      "3\n",
      "7\n",
      "4\n",
      "8\n",
      "5\n",
      "9\n",
      "6\n",
      "10\n",
      "7\n",
      "8\n",
      "9\n",
      "10\n"
     ]
    }
   ],
   "source": [
    "## We iterate over the list and print the value IF the value is smaller or equal to 10 ###\n",
    "for i,j in zip(a,b):\n",
    "    if i <= 10:\n",
    "        print(i)\n",
    "    if j <= 10:\n",
    "        print(j)"
   ]
  },
  {
   "cell_type": "markdown",
   "metadata": {},
   "source": [
    "### F string and format stirngs inside for loops "
   ]
  },
  {
   "cell_type": "code",
   "execution_count": 72,
   "metadata": {},
   "outputs": [
    {
     "name": "stdout",
     "output_type": "stream",
     "text": [
      "a: 1 b: 5\n",
      "a: 2 b: 6\n",
      "a: 3 b: 7\n",
      "a: 4 b: 8\n",
      "a: 5 b: 9\n"
     ]
    }
   ],
   "source": [
    "for i,j in zip(a,b):\n",
    "    if i < 10 and j <10:\n",
    "        print(\"a:\",i,\"b:\",j)"
   ]
  },
  {
   "cell_type": "code",
   "execution_count": 73,
   "metadata": {},
   "outputs": [
    {
     "name": "stdout",
     "output_type": "stream",
     "text": [
      "a: 1, b:5\n",
      "a: 2, b:6\n",
      "a: 3, b:7\n",
      "a: 4, b:8\n",
      "a: 5, b:9\n",
      "a: 6, b:10\n",
      "a: 7, b:11\n",
      "a: 8, b:12\n",
      "a: 9, b:13\n"
     ]
    }
   ],
   "source": [
    "for i,j in zip(a,b):\n",
    "    if i < 10 or j <10:\n",
    "        print(\"a: {}, b:{}\".format(i,j))"
   ]
  },
  {
   "cell_type": "code",
   "execution_count": 74,
   "metadata": {},
   "outputs": [
    {
     "name": "stdout",
     "output_type": "stream",
     "text": [
      "a: 1, b:5\n",
      "a: 2, b:6\n",
      "a: 3, b:7\n",
      "a: 4, b:8\n",
      "a: 5, b:9\n",
      "a: 6, b:10\n",
      "a: 7, b:11\n",
      "a: 8, b:12\n",
      "a: 9, b:13\n"
     ]
    }
   ],
   "source": [
    "for i,j in zip(a,b):\n",
    "    if i < 10 or j <10:\n",
    "        print(f\"a: {i}, b:{j}\")"
   ]
  }
 ],
 "metadata": {
  "kernelspec": {
   "display_name": "Python 3",
   "language": "python",
   "name": "python3"
  },
  "language_info": {
   "codemirror_mode": {
    "name": "ipython",
    "version": 3
   },
   "file_extension": ".py",
   "mimetype": "text/x-python",
   "name": "python",
   "nbconvert_exporter": "python",
   "pygments_lexer": "ipython3",
   "version": "3.7.7"
  }
 },
 "nbformat": 4,
 "nbformat_minor": 4
}
